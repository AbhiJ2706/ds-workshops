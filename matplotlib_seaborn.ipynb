{
 "cells": [
  {
   "cell_type": "markdown",
   "metadata": {},
   "source": [
    "# Matplotlib/Seaborn tutorial\n",
    "\n",
    "Welcome to the Matplotlib and Seaborn tutorial! In this tutorial, you will learn the basics of graphing in Python. Matplotlib and Seaborn are the main libraries we will be using to do this. Both are relatively easy to use and integrate seamlessly with the other libraries we will be using. To get started, import the following libraries:"
   ]
  },
  {
   "cell_type": "code",
   "execution_count": null,
   "metadata": {
    "id": "eXdDIUh1i6lc"
   },
   "outputs": [],
   "source": [
    "import matplotlib.pyplot as plt\n",
    "import seaborn as sns"
   ]
  },
  {
   "cell_type": "code",
   "execution_count": null,
   "metadata": {
    "id": "xsC589E0zLKg"
   },
   "outputs": [],
   "source": [
    "# workshop-specific\n",
    "import numpy as np\n",
    "import pandas as pd"
   ]
  },
  {
   "cell_type": "markdown",
   "metadata": {
    "id": "NIl1aO67jMet"
   },
   "source": [
    "# **Matplotlib**\n",
    "\n",
    "Matplotlib is one of the easiest graphing libraries to use, but it doesn't produce very good-looking graphs in general. It takes a lot of customization to make your graphs look good! However, Matplotlib has many styling and sizing options for you, and it's very well documented on stackoverflow as well. So we can build most of our graphs in just a few lines and without much headache at all.\n",
    "\n",
    "Matplotlib uses a functional paradigm of programming most of the time- we call functions on the same object over and over again in order to build a graph. This central object is the ```matplotlib.pyplot``` object, which we imported previously as ```plt```!\n",
    "\n",
    "Matplotlib can interact with many different libraries easily, e.g., Pandas and Numpy, which makes it a really powerful tool in our stack."
   ]
  },
  {
   "cell_type": "markdown",
   "metadata": {
    "id": "WaUQRsNEjURo"
   },
   "source": [
    "## **Important Matplotlib imports**"
   ]
  },
  {
   "cell_type": "code",
   "execution_count": null,
   "metadata": {
    "id": "muEh6Y2JjSCJ"
   },
   "outputs": [],
   "source": [
    "# the actual matplotlib library\n",
    "import matplotlib.pyplot as plt # we did this before, but it's included again here for reference\n",
    "import matplotlib as mpl\n",
    "\n",
    "# global parameters\n",
    "from matplotlib import rcParams\n",
    "\n",
    "# for custom fonts\n",
    "import matplotlib.font_manager as fm\n",
    "\n",
    "# color mapping\n",
    "from matplotlib import cm\n",
    "\n",
    "# for gradients\n",
    "from matplotlib.collections import LineCollection"
   ]
  },
  {
   "cell_type": "markdown",
   "metadata": {
    "id": "Bqb-4NM6wFoY"
   },
   "source": [
    "## **Simple plotting**\n",
    "\n",
    "There are several basic plotting functions that are the basis of any graph you make in matplotlib:\n",
    "- ```plt.plot(x [, y, z, ...])```: plots a graph with the input provided. You can provide one or more inputs, and matplotlib will decide what to do with them.\n",
    "    - if you provide 1 input (e.g., ```plt.plot(x)```), the input will be plotted on the y-axis with no x-axis\n",
    "    - if you provide 2 inputs (e.g., ```plt.plot(x, y)```), the first input will be x-axis and the second will be the y-axis\n",
    "    - The inputs must be python iterables (lists, numpy arrays, pandas dataframe rows/columns) but they can contains numbers or strings.\n",
    "- ```plt.show()```: delimits the lines on the given graph. You can call ```plt.plot``` as many times as you want, but if you call ```plt.show``` after all those calls their results will all show up on 1 graph. If you don't call ```plt.show```, each ```plt.plot``` call will show up on its own individual graph.\n",
    "\n",
    "Run the examples below to see more on how ```plt.plot``` and ```plt.show``` work!"
   ]
  },
  {
   "cell_type": "code",
   "execution_count": null,
   "metadata": {
    "id": "sfXSQMwpwDoS"
   },
   "outputs": [],
   "source": [
    "# defining some arrays to test\n",
    "x = [1, 3, 5]\n",
    "y = [2, 4, 6]\n",
    "\n",
    "# all on 1 plot using plt.show at the end\n",
    "plt.plot(x)\n",
    "plt.plot(y)\n",
    "plt.plot(x, y)\n",
    "plt.show()\n",
    "\n",
    "# separate plots by calling plt.show between each plt.plot call\n",
    "plt.plot(x)\n",
    "plt.show()\n",
    "plt.plot(y)\n",
    "plt.show()\n",
    "plt.plot(x, y)\n",
    "plt.show()\n",
    "\n",
    "# plt.plot can handle any (finite) iterable- it cannot handle generators\n",
    "z = np.array([i for i in range(1, 35, 2)])\n",
    "a = pd.DataFrame({\"a\": [1, 2, 3], \"b\": [4, 5, 6]})\n",
    "\n",
    "# numpy array plotting\n",
    "print(z)\n",
    "plt.plot(z)\n",
    "plt.show()\n",
    "\n",
    "# pandas dataframe plotting\n",
    "print(a)\n",
    "plt.plot(a[\"b\"])\n",
    "plt.show()"
   ]
  },
  {
   "cell_type": "markdown",
   "metadata": {
    "id": "UIqqup_bzEwa"
   },
   "source": [
    "## **```plt.plot``` Paramters**\n",
    "\n",
    "```plt.plot``` will take many parameters to help you customize your graphs to your heart's desire! All the parameters are passed as keyword arguments to the ```plt.plot``` function. \n",
    "- full list of arguments: https://matplotlib.org/stable/api/_as_gen/matplotlib.pyplot.plot.html\n",
    "\n",
    "The list of parameters is pretty extensive and it can usually be a bit cumbersome to enter. For essential styling, matplotlib provides an easy way of defining options, known as format strings!\n",
    "- format string: easy way of defining multiple options at a time\n",
    "- format strings are the first parameter you pass to ```plt.plot``` after your input data.\n",
    "- syntax: \"[color][marker shape][line type]\" where each is 1 or 2 characters.\n",
    "    - color: single character denoting a basic color (e.g., red- r, blue- b, etc.)\n",
    "    - marker shape: single character denoting the shape of the marker for each data point: e.g., o- circle, +- plus\n",
    "    - line type: denotes line style in one or more characters, e.g. -: solid, --: dashed\n",
    "    - all are optional\n",
    "- full list of options for format strings can be found here: https://python-course.eu/numerical-programming/formatting-plot-in-matplotlib.php\n",
    "\n",
    "See some examples of matplotlib keyword arguments below!"
   ]
  },
  {
   "cell_type": "code",
   "execution_count": null,
   "metadata": {
    "id": "NQByTrYGzESO"
   },
   "outputs": [],
   "source": [
    "x = [1, 3, 5]\n",
    "y = [2, 4, 6]\n",
    "\n",
    "# basic keyword arguments: color and linestyle\n",
    "plt.plot(x, color='black', linewidth=10)\n",
    "plt.show()\n",
    "\n",
    "# basic format string. g represents green, o prepresents dots \n",
    "# as the shape, and -- represents a dashed line between points.\n",
    "plt.plot(y, \"go--\", markersize=12)\n",
    "plt.show()\n",
    "\n",
    "# many keyword arguments\n",
    "plt.plot(x, y, color='#b0b0b0', marker='+', linestyle='dashed',\n",
    "     linewidth=2, markersize=12)\n",
    "plt.show()"
   ]
  },
  {
   "cell_type": "markdown",
   "metadata": {
    "id": "6m1oTmpq2tkI"
   },
   "source": [
    "## **Titles and labels**\n",
    "\n",
    "After creating your perfect graph using the ```plt.plot``` function, it's time to add some titles and labels to your graph.\n",
    "\n",
    "- titles can be added using the ```plt.title``` function. ```plt.title``` has several options for customization, all of which can be found here: https://matplotlib.org/3.1.1/api/_as_gen/matplotlib.pyplot.title.html\n",
    "- labels can be passed in as a list of strings. Your list of labels MUST be the same size as your input, or else matplotlib will throw an error.\n",
    "    - labels can appear on the x or y axis. They can be accessed using the ```plt.gca().get_[x/y]ticklabels()``` function, and properties can be applied to them using the ```plt.setp``` function. \n",
    "\n",
    "See examples of labels and titles below!"
   ]
  },
  {
   "cell_type": "code",
   "execution_count": null,
   "metadata": {
    "id": "SahU0Ro32t1P"
   },
   "outputs": [],
   "source": [
    "z = np.array([i for i in range(1, 35, 2)])\n",
    "a = pd.DataFrame({\"a\": [1, 2, 3], \"b\": [4, 5, 6], \"xlabels\": [\"point a\", \"point b\", \"point c\"]})\n",
    "\n",
    "# plot with a title\n",
    "plt.plot(z)\n",
    "plt.title(\"This is a title\", fontdict=None, loc='center', pad=None, fontname='sans-serif')\n",
    "plt.show()\n",
    "\n",
    "# simple plot with labels on x axis\n",
    "plt.plot(a[\"xlabels\"], a[\"b\"])\n",
    "plt.show()\n",
    "\n",
    "# plot with label properties added\n",
    "plt.plot(a[\"xlabels\"], a[\"a\"])\n",
    "plt.setp(plt.gca().get_xticklabels(), rotation=60, horizontalalignment='right')\n",
    "plt.show()\n",
    "\n",
    "# plot with labels on the y axis and properties added\n",
    "plt.plot(a[\"a\"], a[\"xlabels\"])\n",
    "plt.setp(plt.gca().get_yticklabels(), rotation=20, horizontalalignment='right')\n",
    "plt.show()"
   ]
  },
  {
   "cell_type": "markdown",
   "metadata": {
    "id": "xe2PiB1S0SGt"
   },
   "source": [
    "## **Types of plots**\n",
    "\n",
    "Matplotlib has many, many different types of plots. Each one has its own similar function to ```plt.plot```, and each can be customized in the exact same way as a plot created using ```plt.plot``` (i.e., each one interacts with titles and labels, etc in the same way).\n",
    "- full list of different types of plots (click on the pictures for example code): https://matplotlib.org/stable/plot_types/index.html\n",
    "\n",
    "See some quick examples of different plots below!"
   ]
  },
  {
   "cell_type": "code",
   "execution_count": null,
   "metadata": {
    "id": "8jWhb7039MJt"
   },
   "outputs": [],
   "source": [
    "# normal plot\n",
    "plt.plot([0, 1, 2])\n",
    "\n",
    "# horizontal line\n",
    "plt.axhline(y=1, color='r', linestyle='-')\n",
    "\n",
    "# vertical; line\n",
    "plt.axvline(x=1, color='r', linestyle='--')\n",
    "\n",
    "plt.show()"
   ]
  },
  {
   "cell_type": "markdown",
   "metadata": {
    "id": "NZ9z53dMncWq"
   },
   "source": [
    "## **```rcParams```**\n",
    "\n",
    "As you program with matplotlib, you may notice that you're setting the same parameters to the same values over and over again. However, you don't need to do this! ```rcParams``` is the global paramter set for matplotlib, and it allows you to set values for parameters that you would normally pass to your plot functions globally, so you don't have to pass them to your plot functions every time. Thus, any changes to rcParams should be made before interacting with other parts of matplotlib, since they will be reflected in every single graph generated after it is set.\n",
    "\n",
    "```rcParams``` is already filled with defaults, so you only need to make changes to it if you have settings you want on all or most of your graphs. ```rcParams``` is a python dictionary and can be interacted with in the same way any python dictionary can.\n",
    "\n",
    "The full list of ```rcParams``` attributes can be found here: https://matplotlib.org/stable/tutorials/introductory/customizing.html#the-default-matplotlibrc-file\n",
    "\n",
    "See some examples of ```rcParams``` configurations below!"
   ]
  },
  {
   "cell_type": "code",
   "execution_count": null,
   "metadata": {
    "id": "wshO0CEunb16"
   },
   "outputs": [],
   "source": [
    "# rcParams must be imported\n",
    "from matplotlib import rcParams\n",
    "\n",
    "# some notable rcParams settings\n",
    "\n",
    "# line width in points\n",
    "rcParams[\"lines.linewidth\"] = 1.5 \n",
    "# line style             \n",
    "rcParams[\"lines.linestyle\"] = \"-\" # \"--\": dashed line \n",
    "# line marker\n",
    "rcParams[\"lines.marker\"] = \"None\"\n",
    "# font             \n",
    "rcParams[\"font.family\"] = \"sans-serif\"\n",
    "# text color\n",
    "rcParams[\"text.color\"] = \"black\" # or any hexadecimal code\n",
    "# legend location\n",
    "rcParams[\"legend.loc\"] = \"best\""
   ]
  },
  {
   "cell_type": "markdown",
   "metadata": {
    "id": "STX9WxUO0c2V"
   },
   "source": [
    "## **```fig``` and ```ax```**\n",
    "\n",
    "Matplotlib plots can be broken into several parts, which makes them easier to interact with and customize. This functionality can be accessed using functions discussed previously, but it is often easier to do this using ```fig``` and ```ax```.\n",
    "\n",
    "- ```fig```: the actual figure of the plot\n",
    "  - allows the size of the plot to be set\n",
    "  - allows for macroscopic parameters of the plot to be set: main title, layout, etc.\n",
    "- ```ax```: the axes of the plot\n",
    "  - allows for labels, limits, and more to be set\n",
    "  - allows for axis-specific settings\n",
    "- advantage of ```fig``` and ```ax```: allows for easy organization of graphs. You can see this in the example below, where we have 1 set of graphs which is based on ```ax```, and another based on ```ax2```. The graphs plotted on ```ax``` share their y-axis, and so do those on ```ax2```, and each receives its own y-axis scale and legend.\n",
    "\n",
    "See some ```fig``` and ```ax``` examples below!"
   ]
  },
  {
   "cell_type": "code",
   "execution_count": null,
   "metadata": {
    "id": "YcGrqAXw0cEI"
   },
   "outputs": [],
   "source": [
    "# setting figure size- very important for aspect ratio!\n",
    "fig = plt.figure(figsize=(10, 6))\n",
    "\n",
    "# using ax- first group\n",
    "ax = plt.gca()\n",
    "\n",
    "ax.set_ylim(3, 20)\n",
    "ax.plot([i for i in range(20)], [i for i in range(20)], label=\"line 1\")\n",
    "\n",
    "ax.set_xlabel('x label')\n",
    "ax.set_ylabel('y label')\n",
    "\n",
    "ax.legend(loc=0)\n",
    "\n",
    "# creating a new group and plotting\n",
    "ax2 = ax.twinx()\n",
    "\n",
    "ax2.plot([2 * i for i in range(20)], label=\"line 2\")\n",
    "ax2.plot([3 * i for i in range(20)], label=\"line 3\")\n",
    "\n",
    "ax2.legend(loc=1)\n",
    "\n",
    "# note that fig title must be set using suptitle\n",
    "fig.suptitle('Main title')\n",
    "\n",
    "plt.show()"
   ]
  },
  {
   "cell_type": "markdown",
   "metadata": {},
   "source": [
    "## Some useful skills\n",
    "\n",
    "This section contains some notably useful pieces of code for matplotlib users! Note that the saved graph from the \"saving graphs as images\" sections must be uploaded to your google form!"
   ]
  },
  {
   "cell_type": "code",
   "execution_count": null,
   "metadata": {},
   "outputs": [],
   "source": [
    "# changing the font to a custom font\n",
    "\n",
    "# importing matplotlib font manager\n",
    "import matplotlib.font_manager as font_manager\n",
    "\n",
    "# specifying font directories to search\n",
    "# note: the comma after the one list item denotes a default\n",
    "font_dirs = ['./tutorial_assets',]\n",
    "font_files = font_manager.findSystemFonts(fontpaths=font_dirs)\n",
    "print([f.name for f in mpl.font_manager.fontManager.ttflist])\n",
    "\n",
    "# Your font path goes here\n",
    "font_path = './tutorial_assets/atr.ttf'\n",
    "font_manager.fontManager.addfont(font_path)\n",
    "prop = font_manager.FontProperties(fname=font_path)\n",
    "\n",
    "# storing font as default (optional)\n",
    "rcParams['font.family'] = 'sans-serif'\n",
    "rcParams['font.sans-serif'] = prop.get_name()\n",
    "\n",
    "# alternative route without setting sans-serif\n",
    "print(prop.get_name())\n",
    "rcParams['font.family'] = 'American Typewriter'"
   ]
  },
  {
   "cell_type": "code",
   "execution_count": null,
   "metadata": {},
   "outputs": [],
   "source": [
    "# saving a graph as a png\n",
    "# NOTE: DO THIS INSTEAD OF SCREENSHOTTING!!!\n",
    "\n",
    "plt.plot([\"point 1\", \"point 2\", \"point 3\"], [0, 2, 4], color='r')\n",
    "plt.title(\"save this plot!\")\n",
    "# this function saves the graph\n",
    "# you must call it before plt.show!!\n",
    "plt.savefig('upload_this.png')\n",
    "plt.show()"
   ]
  },
  {
   "cell_type": "markdown",
   "metadata": {
    "id": "CrQSOcGkduP0"
   },
   "source": [
    "# **Seaborn**\n",
    "\n",
    "The next section will briefly cover Seaborn.\n",
    "- makes more aesthetically pleasing plots than matplotlib\n",
    "- integrated with pandas, to make dataframes especially easy to plot\n",
    "- integrated with matplotlib (can use any matplotlib settings/functions/etc)"
   ]
  },
  {
   "cell_type": "markdown",
   "metadata": {
    "id": "mQkpMaHItIEJ"
   },
   "source": [
    "## **Basic plot**\n",
    "\n",
    "- uses lmplot\n",
    "- integration with pandas- select columns and provide data"
   ]
  },
  {
   "cell_type": "code",
   "execution_count": null,
   "metadata": {
    "colab": {
     "base_uri": "https://localhost:8080/",
     "height": 387
    },
    "id": "oWBpSJWfgHYm",
    "outputId": "3c2ab3e0-76eb-4374-d710-f3ce10568329"
   },
   "outputs": [],
   "source": [
    "a = pd.DataFrame({\"a\": [1, 2, 3], \"b\": [4, 5, 6], \"xlabels\": [\"point a\", \"point b\", \"point c\"]})\n",
    "\n",
    "a.head()\n",
    "\n",
    "sns.lmplot(x='a', y='b', data=a)"
   ]
  },
  {
   "cell_type": "code",
   "execution_count": null,
   "metadata": {
    "colab": {
     "base_uri": "https://localhost:8080/",
     "height": 391
    },
    "id": "K09hcobrh-gx",
    "outputId": "22ffe329-f53b-436e-dc8b-b4efc9119701"
   },
   "outputs": [],
   "source": [
    "sns.lmplot(x='a', y='b', data=a)\n",
    "\n",
    "plt.ylim(1, 6)\n",
    "plt.xlim(1, 3)"
   ]
  },
  {
   "cell_type": "markdown",
   "metadata": {
    "id": "aJClWrCatSf1"
   },
   "source": [
    "## **Different plots**\n",
    "\n",
    "- many different ones, similar to matplotlib\n",
    "  - full list: https://seaborn.pydata.org/tutorial/function_overview.html\n",
    "- pandas intuitive integration with some dataframes\n",
    "  - don't even need to specify the columns to plot, seaborn can figure it out"
   ]
  },
  {
   "cell_type": "code",
   "execution_count": null,
   "metadata": {
    "colab": {
     "base_uri": "https://localhost:8080/",
     "height": 283
    },
    "id": "ybm-GegEiPD1",
    "outputId": "229298fb-e632-4850-b2ae-8ca6e5ec8327"
   },
   "outputs": [],
   "source": [
    "sns.boxplot(data=a)"
   ]
  },
  {
   "cell_type": "markdown",
   "metadata": {
    "id": "aNDB2LnFtlBh"
   },
   "source": [
    "## **Colors and other attributes**\n",
    "\n",
    "- can be specified similar to matplotlib\n",
    "- full list of attributes: https://seaborn.pydata.org/generated/seaborn.lmplot.html\n",
    "  - some graph-specific ones, see each individually \n",
    "- matplotlib integration\n",
    "  - can use functions from matplotlib\n",
    "    - e.g. title, legend, etc.\n",
    "  - can plot multiple datasets on 1 graph\n",
    "    - delimited by plt.show() just like matplotlib\n",
    "  - legends can be autogenerated (usually no need to use plt.legend())\n",
    "  - axes can be grabbed directly from the plotting function (no need for fig and ax unless you are doing some more matplotlib-specific things)"
   ]
  },
  {
   "cell_type": "code",
   "execution_count": null,
   "metadata": {
    "colab": {
     "base_uri": "https://localhost:8080/",
     "height": 287
    },
    "id": "Oiduoyunk60j",
    "outputId": "a89a2e4f-fd99-497d-a1ce-20cd9e119828"
   },
   "outputs": [],
   "source": [
    "colors = [\"#b0b0b0\", \"#0b0b0b\"]\n",
    "\n",
    "sns.violinplot(data=a, palette=colors)"
   ]
  },
  {
   "cell_type": "code",
   "execution_count": null,
   "metadata": {
    "colab": {
     "base_uri": "https://localhost:8080/",
     "height": 621
    },
    "id": "NqgZePTelgrO",
    "outputId": "2631105c-c99f-4eeb-b79b-f1b0b376af37"
   },
   "outputs": [],
   "source": [
    "colors = [\"#ff0000\", \"#0000ff\"]\n",
    "\n",
    "d = pd.DataFrame({\"a\": np.random.rand(20), \"b\": np.random.rand(20), \"c\": np.random.rand(20)})\n",
    "\n",
    "plt.figure(figsize=(20, 10))\n",
    "\n",
    "ax = sns.scatterplot(x='a',\n",
    "               y='b', \n",
    "               data=d, \n",
    "               color=\"#ff0000\",\n",
    "               label=\"p1\")\n",
    "\n",
    "sns.scatterplot(x='b',\n",
    "               y='c', \n",
    "               data=d, \n",
    "               color=\"#0000ff\",\n",
    "               s=200,\n",
    "               label=\"p2\")\n",
    "\n",
    "plt.title('Sample plot')\n",
    "\n",
    "plt.xticks([0.25, 0.5, 0.75])\n",
    "\n",
    "plt.legend()\n",
    "\n",
    "plt.show()"
   ]
  }
 ],
 "metadata": {
  "colab": {
   "provenance": []
  },
  "kernelspec": {
   "display_name": "Python 3 (ipykernel)",
   "language": "python",
   "name": "python3"
  },
  "language_info": {
   "codemirror_mode": {
    "name": "ipython",
    "version": 3
   },
   "file_extension": ".py",
   "mimetype": "text/x-python",
   "name": "python",
   "nbconvert_exporter": "python",
   "pygments_lexer": "ipython3",
   "version": "3.9.6"
  },
  "vscode": {
   "interpreter": {
    "hash": "31f2aee4e71d21fbe5cf8b01ff0e069b9275f58929596ceb00d14d90e3e16cd6"
   }
  }
 },
 "nbformat": 4,
 "nbformat_minor": 1
}
