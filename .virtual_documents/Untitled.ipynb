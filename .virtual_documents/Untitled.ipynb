


import numpy as np
import pandas as pd
import tensorflow as tf
from tensorflow import keras
import torch





from keras.layers import Dense, Input

weights = [[[1.811, 0.243, -0.451, 0.285, -1.043], [-0.409, 1.260, 0.338, 1.958, 0.727], [-0.599, -1.096, -0.181, 0.615, -1.933]],
           [[1.386, -0.217,  1.280,  1.021], [1.172, -0.667, 0.097, 0.458], [0.141, -1.574, 0.034, -0.929], [-0.540, -0.059, -1.562, -1.689], [0.813, 0.938, 0.154, 0.862]],
           [[-0.045, -0.180, 1.128, 0.339], [-0.651, 1.041, -0.856, -0.710], [-3.085, 0.990, 1.425, 0.600], [-0.987, 0.676, -0.648, 0.201]]]
biases = [[0.494, 0.204, 0.065, 0.724, -1.375],
          [-0.535, -0.692, 0.873, -0.737],
          [-1.35, 1.828, 1.031, -1.001]]

model = keras.Sequential([
    Input(3),
    Dense(5, activation="sigmoid"),
    Dense(4, activation="sigmoid"),
    Dense(4, activation="tanh")
])

for i in range(len(model.layers)):
    model.layers[i].set_weights([weights[i], biases[i]])

for i in range(len(model.layers)):
    print(model.layers[i].get_weights())  



